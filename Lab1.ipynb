{
 "cells": [
  {
   "cell_type": "markdown",
   "metadata": {},
   "source": [
    "## Lab1\n",
    "### Questions we can use the data to explore:\n",
    "\n",
    "1.Which airport suffers the worst delays?\n",
    "\n",
    "2.Within each airport which airline has the most on time or early flights or worst delays?\n",
    "    *could pick a few states or airports\n",
    "    \n",
    "3.When is the best time to fly/What time of day has the worst delays?"
   ]
  },
  {
   "cell_type": "markdown",
   "metadata": {},
   "source": [
    "### Columns we should keep from the dataset\n",
    "* dayname\n",
    "* flightdate\n",
    "* airline\n",
    "* origin\n",
    "* dst\n",
    "* depdelay\n",
    "* depdelaygroup\n",
    "* dtimeblk\n",
    "* distgroup\n"
   ]
  },
  {
   "cell_type": "code",
   "execution_count": 16,
   "metadata": {},
   "outputs": [
    {
     "name": "stdout",
     "output_type": "stream",
     "text": [
      "Pandas: 0.23.0\n",
      "Numpy: 1.14.3\n"
     ]
    },
    {
     "data": {
      "text/html": [
       "<div>\n",
       "<style scoped>\n",
       "    .dataframe tbody tr th:only-of-type {\n",
       "        vertical-align: middle;\n",
       "    }\n",
       "\n",
       "    .dataframe tbody tr th {\n",
       "        vertical-align: top;\n",
       "    }\n",
       "\n",
       "    .dataframe thead th {\n",
       "        text-align: right;\n",
       "    }\n",
       "</style>\n",
       "<table border=\"1\" class=\"dataframe\">\n",
       "  <thead>\n",
       "    <tr style=\"text-align: right;\">\n",
       "      <th></th>\n",
       "      <th>Year</th>\n",
       "      <th>Quarter</th>\n",
       "      <th>Month</th>\n",
       "      <th>monthname</th>\n",
       "      <th>DayofMonth</th>\n",
       "      <th>DayOfWeek</th>\n",
       "      <th>dayname</th>\n",
       "      <th>FlightDate</th>\n",
       "      <th>airline</th>\n",
       "      <th>TailNum</th>\n",
       "      <th>...</th>\n",
       "      <th>FirstDepTime1</th>\n",
       "      <th>FirstDepTime2</th>\n",
       "      <th>FirstDepTime</th>\n",
       "      <th>TotalAddGTime</th>\n",
       "      <th>LongestAddGTime</th>\n",
       "      <th>DivAirportLandings</th>\n",
       "      <th>DivReachedDest</th>\n",
       "      <th>DivActualElapsedTime</th>\n",
       "      <th>DivArrDelay</th>\n",
       "      <th>DivDistance</th>\n",
       "    </tr>\n",
       "  </thead>\n",
       "  <tbody>\n",
       "    <tr>\n",
       "      <th>0</th>\n",
       "      <td>2018</td>\n",
       "      <td>1</td>\n",
       "      <td>2</td>\n",
       "      <td>February</td>\n",
       "      <td>10</td>\n",
       "      <td>6</td>\n",
       "      <td>Saturday</td>\n",
       "      <td>2018-02-10</td>\n",
       "      <td>Southwest Airlines Co.</td>\n",
       "      <td>N561WN</td>\n",
       "      <td>...</td>\n",
       "      <td>NaN</td>\n",
       "      <td>NaN</td>\n",
       "      <td>NaN</td>\n",
       "      <td>NaN</td>\n",
       "      <td>NaN</td>\n",
       "      <td>0</td>\n",
       "      <td>NaN</td>\n",
       "      <td>NaN</td>\n",
       "      <td>NaN</td>\n",
       "      <td>NaN</td>\n",
       "    </tr>\n",
       "    <tr>\n",
       "      <th>1</th>\n",
       "      <td>2018</td>\n",
       "      <td>1</td>\n",
       "      <td>2</td>\n",
       "      <td>February</td>\n",
       "      <td>10</td>\n",
       "      <td>6</td>\n",
       "      <td>Saturday</td>\n",
       "      <td>2018-02-10</td>\n",
       "      <td>Southwest Airlines Co.</td>\n",
       "      <td>N8612K</td>\n",
       "      <td>...</td>\n",
       "      <td>NaN</td>\n",
       "      <td>NaN</td>\n",
       "      <td>NaN</td>\n",
       "      <td>NaN</td>\n",
       "      <td>NaN</td>\n",
       "      <td>0</td>\n",
       "      <td>NaN</td>\n",
       "      <td>NaN</td>\n",
       "      <td>NaN</td>\n",
       "      <td>NaN</td>\n",
       "    </tr>\n",
       "    <tr>\n",
       "      <th>2</th>\n",
       "      <td>2018</td>\n",
       "      <td>1</td>\n",
       "      <td>2</td>\n",
       "      <td>February</td>\n",
       "      <td>10</td>\n",
       "      <td>6</td>\n",
       "      <td>Saturday</td>\n",
       "      <td>2018-02-10</td>\n",
       "      <td>Southwest Airlines Co.</td>\n",
       "      <td>N8699A</td>\n",
       "      <td>...</td>\n",
       "      <td>NaN</td>\n",
       "      <td>NaN</td>\n",
       "      <td>NaN</td>\n",
       "      <td>NaN</td>\n",
       "      <td>NaN</td>\n",
       "      <td>0</td>\n",
       "      <td>NaN</td>\n",
       "      <td>NaN</td>\n",
       "      <td>NaN</td>\n",
       "      <td>NaN</td>\n",
       "    </tr>\n",
       "    <tr>\n",
       "      <th>3</th>\n",
       "      <td>2018</td>\n",
       "      <td>1</td>\n",
       "      <td>2</td>\n",
       "      <td>February</td>\n",
       "      <td>10</td>\n",
       "      <td>6</td>\n",
       "      <td>Saturday</td>\n",
       "      <td>2018-02-10</td>\n",
       "      <td>Southwest Airlines Co.</td>\n",
       "      <td>N230WN</td>\n",
       "      <td>...</td>\n",
       "      <td>NaN</td>\n",
       "      <td>NaN</td>\n",
       "      <td>NaN</td>\n",
       "      <td>NaN</td>\n",
       "      <td>NaN</td>\n",
       "      <td>0</td>\n",
       "      <td>NaN</td>\n",
       "      <td>NaN</td>\n",
       "      <td>NaN</td>\n",
       "      <td>NaN</td>\n",
       "    </tr>\n",
       "    <tr>\n",
       "      <th>4</th>\n",
       "      <td>2018</td>\n",
       "      <td>1</td>\n",
       "      <td>2</td>\n",
       "      <td>February</td>\n",
       "      <td>10</td>\n",
       "      <td>6</td>\n",
       "      <td>Saturday</td>\n",
       "      <td>2018-02-10</td>\n",
       "      <td>Southwest Airlines Co.</td>\n",
       "      <td>N931WN</td>\n",
       "      <td>...</td>\n",
       "      <td>NaN</td>\n",
       "      <td>NaN</td>\n",
       "      <td>NaN</td>\n",
       "      <td>NaN</td>\n",
       "      <td>NaN</td>\n",
       "      <td>0</td>\n",
       "      <td>NaN</td>\n",
       "      <td>NaN</td>\n",
       "      <td>NaN</td>\n",
       "      <td>NaN</td>\n",
       "    </tr>\n",
       "  </tbody>\n",
       "</table>\n",
       "<p>5 rows × 59 columns</p>\n",
       "</div>"
      ],
      "text/plain": [
       "   Year  Quarter  Month monthname  DayofMonth  DayOfWeek   dayname  \\\n",
       "0  2018        1      2  February          10          6  Saturday   \n",
       "1  2018        1      2  February          10          6  Saturday   \n",
       "2  2018        1      2  February          10          6  Saturday   \n",
       "3  2018        1      2  February          10          6  Saturday   \n",
       "4  2018        1      2  February          10          6  Saturday   \n",
       "\n",
       "   FlightDate                 airline TailNum     ...      FirstDepTime1  \\\n",
       "0  2018-02-10  Southwest Airlines Co.  N561WN     ...                NaN   \n",
       "1  2018-02-10  Southwest Airlines Co.  N8612K     ...                NaN   \n",
       "2  2018-02-10  Southwest Airlines Co.  N8699A     ...                NaN   \n",
       "3  2018-02-10  Southwest Airlines Co.  N230WN     ...                NaN   \n",
       "4  2018-02-10  Southwest Airlines Co.  N931WN     ...                NaN   \n",
       "\n",
       "   FirstDepTime2 FirstDepTime TotalAddGTime LongestAddGTime  \\\n",
       "0            NaN          NaN           NaN             NaN   \n",
       "1            NaN          NaN           NaN             NaN   \n",
       "2            NaN          NaN           NaN             NaN   \n",
       "3            NaN          NaN           NaN             NaN   \n",
       "4            NaN          NaN           NaN             NaN   \n",
       "\n",
       "  DivAirportLandings  DivReachedDest DivActualElapsedTime DivArrDelay  \\\n",
       "0                  0             NaN                  NaN         NaN   \n",
       "1                  0             NaN                  NaN         NaN   \n",
       "2                  0             NaN                  NaN         NaN   \n",
       "3                  0             NaN                  NaN         NaN   \n",
       "4                  0             NaN                  NaN         NaN   \n",
       "\n",
       "  DivDistance  \n",
       "0         NaN  \n",
       "1         NaN  \n",
       "2         NaN  \n",
       "3         NaN  \n",
       "4         NaN  \n",
       "\n",
       "[5 rows x 59 columns]"
      ]
     },
     "execution_count": 16,
     "metadata": {},
     "output_type": "execute_result"
    }
   ],
   "source": [
    "import matplotlib\n",
    "import matplotlib.pyplot as plt\n",
    "import warnings\n",
    "warnings.simplefilter('ignore', DeprecationWarning)\n",
    "%matplotlib inline \n",
    "\n",
    "import missingno as mn\n",
    "\n",
    "import pandas as pd\n",
    "import numpy as np\n",
    "\n",
    "print('Pandas:', pd.__version__)\n",
    "print('Numpy:',np.__version__)\n",
    "\n",
    "df = pd.read_csv('/Users/christopher201/Downloads/aaaa-On_Time_On_Time_Performance_2018_1.csv') # read in the csv file\n",
    "\n",
    "df.head()"
   ]
  },
  {
   "cell_type": "code",
   "execution_count": 17,
   "metadata": {},
   "outputs": [],
   "source": [
    "for col in ['Year','Quarter','Month','monthname','DayofMonth','DayOfWeek','TailNum','FlightNum','OriginAirportID',\n",
    "           'OriginCityName','OriginState','OriginStateName','DestAirportID','DestCityName','DestState','DestStateName','CRSDepTime',\n",
    "           'DepDelayMinutes','TaxiIn','TaxiOut','CRSArrTime','ArrTime','ArrDelay','ArrDelayMinutes','ArrDelayGroup','ATimeBlk','CancellationReason',\n",
    "            'Diverted', 'AirTime','CarrierDelay','WeatherDelay','NASDelay','SecurityDelay','LateAircraftDelay','FirstDepTime1','FirstDepTime2',\n",
    "            'FirstDepTime','TotalAddGTime','LongestAddGTime','DivAirportLandings','DivReachedDest','DivActualElapsedTime','DivArrDelay','DivDistance',\n",
    "           'CRSElapsedTime','Flights','DepTime']:\n",
    "    if col in df:\n",
    "        del df[col]"
   ]
  },
  {
   "cell_type": "code",
   "execution_count": 18,
   "metadata": {},
   "outputs": [
    {
     "name": "stdout",
     "output_type": "stream",
     "text": [
      "dayname               object\n",
      "FlightDate            object\n",
      "airline               object\n",
      "Origin                object\n",
      "Dest                  object\n",
      "DepDelay             float64\n",
      "DepDelayGroup         object\n",
      "DTimeBlk              object\n",
      "Cancelled            float64\n",
      "ActualElapsedTime    float64\n",
      "Distance             float64\n",
      "DistGroup             object\n",
      "dtype: object\n"
     ]
    }
   ],
   "source": [
    "print(df.dtypes)\n"
   ]
  },
  {
   "cell_type": "code",
   "execution_count": 19,
   "metadata": {},
   "outputs": [
    {
     "name": "stdout",
     "output_type": "stream",
     "text": [
      "<class 'pandas.core.frame.DataFrame'>\n",
      "RangeIndex: 1702870 entries, 0 to 1702869\n",
      "Data columns (total 12 columns):\n",
      "dayname              1702870 non-null object\n",
      "FlightDate           1702870 non-null object\n",
      "airline              1702870 non-null object\n",
      "Origin               1702870 non-null object\n",
      "Dest                 1702870 non-null object\n",
      "DepDelay             1658772 non-null float64\n",
      "DepDelayGroup        1658772 non-null object\n",
      "DTimeBlk             1702870 non-null object\n",
      "Cancelled            1702870 non-null float64\n",
      "ActualElapsedTime    1655733 non-null float64\n",
      "Distance             1702870 non-null float64\n",
      "DistGroup            1702870 non-null object\n",
      "dtypes: float64(4), object(8)\n",
      "memory usage: 155.9+ MB\n",
      "None\n"
     ]
    }
   ],
   "source": [
    "print(df.info(verbose=True, null_counts=True))"
   ]
  },
  {
   "cell_type": "code",
   "execution_count": 20,
   "metadata": {},
   "outputs": [
    {
     "data": {
      "text/plain": [
       "dayname                  0\n",
       "FlightDate               0\n",
       "airline                  0\n",
       "Origin                   0\n",
       "Dest                     0\n",
       "DepDelay             44098\n",
       "DepDelayGroup        44098\n",
       "DTimeBlk                 0\n",
       "Cancelled                0\n",
       "ActualElapsedTime    47137\n",
       "Distance                 0\n",
       "DistGroup                0\n",
       "dtype: int64"
      ]
     },
     "execution_count": 20,
     "metadata": {},
     "output_type": "execute_result"
    }
   ],
   "source": [
    "#Figure out what data is missing\n",
    "df.isnull().sum()\n"
   ]
  },
  {
   "cell_type": "code",
   "execution_count": 21,
   "metadata": {},
   "outputs": [
    {
     "data": {
      "text/plain": [
       "<matplotlib.axes._subplots.AxesSubplot at 0x1a13cbd400>"
      ]
     },
     "execution_count": 21,
     "metadata": {},
     "output_type": "execute_result"
    },
    {
     "data": {
      "image/png": "[encoded data removed]",
      "text/plain": [
       "<Figure size 1800x720 with 2 Axes>"
      ]
     },
     "metadata": {},
     "output_type": "display_data"
    },
    {
     "data": {
      "image/png": "[encoded data removed]",
      "text/plain": [
       "<Figure size 1440x864 with 1 Axes>"
      ]
     },
     "metadata": {},
     "output_type": "display_data"
    }
   ],
   "source": [
    "# this python magics will allow plot to be embedded into the notebook\n",
    "import matplotlib\n",
    "import matplotlib.pyplot as plt\n",
    "import warnings\n",
    "warnings.simplefilter('ignore', DeprecationWarning)\n",
    "%matplotlib inline \n",
    "\n",
    "import missingno as mn\n",
    "\n",
    "mn.matrix(df.sort_values(by=[\"airline\", \"Origin\"]))\n",
    "mn.heatmap(df.sort_values(by=[\"airline\", \"Origin\"]))"
   ]
  },
  {
   "cell_type": "code",
   "execution_count": 22,
   "metadata": {},
   "outputs": [
    {
     "data": {
      "text/html": [
       "<div>\n",
       "<style scoped>\n",
       "    .dataframe tbody tr th:only-of-type {\n",
       "        vertical-align: middle;\n",
       "    }\n",
       "\n",
       "    .dataframe tbody tr th {\n",
       "        vertical-align: top;\n",
       "    }\n",
       "\n",
       "    .dataframe thead th {\n",
       "        text-align: right;\n",
       "    }\n",
       "</style>\n",
       "<table border=\"1\" class=\"dataframe\">\n",
       "  <thead>\n",
       "    <tr style=\"text-align: right;\">\n",
       "      <th></th>\n",
       "      <th>DepDelay</th>\n",
       "      <th>Cancelled</th>\n",
       "      <th>ActualElapsedTime</th>\n",
       "      <th>Distance</th>\n",
       "    </tr>\n",
       "  </thead>\n",
       "  <tbody>\n",
       "    <tr>\n",
       "      <th>count</th>\n",
       "      <td>1.658772e+06</td>\n",
       "      <td>1.702870e+06</td>\n",
       "      <td>1.655733e+06</td>\n",
       "      <td>1.702870e+06</td>\n",
       "    </tr>\n",
       "    <tr>\n",
       "      <th>mean</th>\n",
       "      <td>8.798357e+00</td>\n",
       "      <td>2.550929e-02</td>\n",
       "      <td>1.371467e+02</td>\n",
       "      <td>7.963296e+02</td>\n",
       "    </tr>\n",
       "    <tr>\n",
       "      <th>std</th>\n",
       "      <td>4.323299e+01</td>\n",
       "      <td>1.576660e-01</td>\n",
       "      <td>7.317174e+01</td>\n",
       "      <td>5.907165e+02</td>\n",
       "    </tr>\n",
       "    <tr>\n",
       "      <th>min</th>\n",
       "      <td>-1.140000e+02</td>\n",
       "      <td>0.000000e+00</td>\n",
       "      <td>1.600000e+01</td>\n",
       "      <td>3.100000e+01</td>\n",
       "    </tr>\n",
       "    <tr>\n",
       "      <th>25%</th>\n",
       "      <td>-6.000000e+00</td>\n",
       "      <td>0.000000e+00</td>\n",
       "      <td>8.400000e+01</td>\n",
       "      <td>3.620000e+02</td>\n",
       "    </tr>\n",
       "    <tr>\n",
       "      <th>50%</th>\n",
       "      <td>-2.000000e+00</td>\n",
       "      <td>0.000000e+00</td>\n",
       "      <td>1.190000e+02</td>\n",
       "      <td>6.380000e+02</td>\n",
       "    </tr>\n",
       "    <tr>\n",
       "      <th>75%</th>\n",
       "      <td>6.000000e+00</td>\n",
       "      <td>0.000000e+00</td>\n",
       "      <td>1.680000e+02</td>\n",
       "      <td>1.034000e+03</td>\n",
       "    </tr>\n",
       "    <tr>\n",
       "      <th>max</th>\n",
       "      <td>2.482000e+03</td>\n",
       "      <td>1.000000e+00</td>\n",
       "      <td>7.390000e+02</td>\n",
       "      <td>4.983000e+03</td>\n",
       "    </tr>\n",
       "  </tbody>\n",
       "</table>\n",
       "</div>"
      ],
      "text/plain": [
       "           DepDelay     Cancelled  ActualElapsedTime      Distance\n",
       "count  1.658772e+06  1.702870e+06       1.655733e+06  1.702870e+06\n",
       "mean   8.798357e+00  2.550929e-02       1.371467e+02  7.963296e+02\n",
       "std    4.323299e+01  1.576660e-01       7.317174e+01  5.907165e+02\n",
       "min   -1.140000e+02  0.000000e+00       1.600000e+01  3.100000e+01\n",
       "25%   -6.000000e+00  0.000000e+00       8.400000e+01  3.620000e+02\n",
       "50%   -2.000000e+00  0.000000e+00       1.190000e+02  6.380000e+02\n",
       "75%    6.000000e+00  0.000000e+00       1.680000e+02  1.034000e+03\n",
       "max    2.482000e+03  1.000000e+00       7.390000e+02  4.983000e+03"
      ]
     },
     "execution_count": 22,
     "metadata": {},
     "output_type": "execute_result"
    }
   ],
   "source": [
    "df.describe()"
   ]
  },
  {
   "cell_type": "markdown",
   "metadata": {},
   "source": [
    "##### "
   ]
  }
 ],
 "metadata": {
  "kernelspec": {
   "display_name": "Python 3",
   "language": "python",
   "name": "python3"
  },
  "language_info": {
   "codemirror_mode": {
    "name": "ipython",
    "version": 3
   },
   "file_extension": ".py",
   "mimetype": "text/x-python",
   "name": "python",
   "nbconvert_exporter": "python",
   "pygments_lexer": "ipython3",
   "version": "3.6.5"
  }
 },
 "nbformat": 4,
 "nbformat_minor": 2
}
