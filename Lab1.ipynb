{
 "cells": [
  {
   "cell_type": "markdown",
   "metadata": {},
   "source": [
    "## Lab1\n",
    "### Questions we can use the data to explore:\n",
    "\n",
    "REMOVE CELL BEFORE TURN IN\n",
    "\n",
    "1.Within DFW airport which airline has the most on time or early flights or worst delays?\n",
    "    *could pick a few states or airport destinations\n",
    "    \n",
    "2.When is the best time to fly/What time of day has the worst delays at DFW?"
   ]
  },
  {
   "cell_type": "markdown",
   "metadata": {},
   "source": [
    "### Columns we should keep from the dataset\n",
    "\n",
    "REMOVE CELL BEFORE TURN IN\n",
    "* dayname\n",
    "* flightdate\n",
    "* airline\n",
    "* origin\n",
    "* dst\n",
    "* depdelay\n",
    "* depdelaygroup\n",
    "* dtimeblk\n",
    "* distgroup\n"
   ]
  },
  {
   "cell_type": "markdown",
   "metadata": {},
   "source": [
    "# Business Understanding\n",
    "\n",
    "This data set is from The Department of Transportation’s Bureau of Transportation Statistics regarding the On Time Preformance of domestic flights flying from the DFW airport from January to March of this year.\n",
    "\n",
    "According to the Airports Council International, DFW is the 12th busiest airport in the world, serving around 67 million passangers a year. When booking flights for a trip, there are often many differnt airlines and times of day to choose from. The end goal of analyis on our dataset is to be able to understand for DFW when is the best time to fly and with what airline in order to minimize departure delays when taking a trip.\n",
    "\n",
    "# Who would benefit\n",
    "Businesses who send employees on businesss trips and people taking personal trips flying through DFW would benefit from this analysis. If a flight for a business trip gets delayed or cancelled, the company loses money as hours of the client or employee's time are wasted as a result. Additionally, many people get a very limited time for vacation and personal trips. A long delay or cancellation can and casue them to lose valuable time at their destination or with their families.\n",
    "\n",
    "Using this analysis a person or company can try to schedule thier flights to minimize likelihood of experiencing delays when flying from DFW. If a person has to fly during a time or with an airline with a high likelihood of delay or cancellation, they can use this analysis to help them plan accordingly and be sure to build in flexibility due to delays when planning thier schedules.\n",
    "\n",
    "Airlines that fly from DFW could also use this analysis to help them see how they stack up to thier competitors and to help them better schedule thier employees. For example, during times when there is a high likelihood of delay they could have more gate and travel agent staff available.\n",
    "\n",
    "# Model Performance\n",
    "In order to be considered useful our model would have to perform........ **I think we should save this until the end so we can see how much variance there is in the things we are trying to predict.. our model should probably be between 75-99% accurate.. if there is little variance our model should probably be closer to 99% if there is larger variance our model can probably be farthur away(b/c we cant account for events like weather)"
   ]
  },
  {
   "cell_type": "code",
   "execution_count": 1,
   "metadata": {},
   "outputs": [
    {
     "name": "stdout",
     "output_type": "stream",
     "text": [
      "Pandas: 0.20.1\n",
      "Numpy: 1.12.1\n"
     ]
    }
   ],
   "source": [
    "import matplotlib\n",
    "import matplotlib.pyplot as plt\n",
    "import warnings\n",
    "warnings.simplefilter('ignore', DeprecationWarning)\n",
    "%matplotlib inline \n",
    "\n",
    "import missingno as mn\n",
    "\n",
    "import pandas as pd\n",
    "import numpy as np\n",
    "\n",
    "df = pd.read_csv('https://s2.smu.edu/~tyienger/aaaa-On_Time_On_Time_Performance_2018_1.csv') # read in the csv file\n",
    "\n",
    "print('Pandas:', pd.__version__)\n",
    "print('Numpy:',np.__version__)"
   ]
  },
  {
   "cell_type": "code",
   "execution_count": 2,
   "metadata": {},
   "outputs": [
    {
     "name": "stdout",
     "output_type": "stream",
     "text": [
      "          Year  Quarter         Month    DayofMonth     DayOfWeek  \\\n",
      "count  66085.0  66085.0  66085.000000  66085.000000  66085.000000   \n",
      "mean    2018.0      1.0      2.013876     15.509556      3.898994   \n",
      "std        0.0      0.0      0.830702      8.725352      1.973865   \n",
      "min     2018.0      1.0      1.000000      1.000000      1.000000   \n",
      "25%     2018.0      1.0      1.000000      8.000000      2.000000   \n",
      "50%     2018.0      1.0      2.000000     16.000000      4.000000   \n",
      "75%     2018.0      1.0      3.000000     23.000000      6.000000   \n",
      "max     2018.0      1.0      3.000000     31.000000      7.000000   \n",
      "\n",
      "          FlightNum  OriginAirportID  DestAirportID      DepDelay  \\\n",
      "count  66085.000000          66085.0   66085.000000  64716.000000   \n",
      "mean    2694.560959          11298.0   12867.713763      8.766209   \n",
      "std     1605.094463              0.0    1585.291240     39.092864   \n",
      "min        5.000000          11298.0   10136.000000    -22.000000   \n",
      "25%     1427.000000          11298.0   11433.000000     -5.000000   \n",
      "50%     2528.000000          11298.0   12951.000000     -2.000000   \n",
      "75%     3567.000000          11298.0   14109.000000      5.000000   \n",
      "max     6263.000000          11298.0   15919.000000   1416.000000   \n",
      "\n",
      "       DepDelayMinutes     ...       LateAircraftDelay  FirstDepTime1  \\\n",
      "count     64716.000000     ...            66085.000000     444.000000   \n",
      "mean         11.612368     ...                3.882969      13.768018   \n",
      "std          38.127532     ...               20.797343       4.873364   \n",
      "min           0.000000     ...                0.000000       5.000000   \n",
      "25%           0.000000     ...                0.000000       9.000000   \n",
      "50%           0.000000     ...                0.000000      14.000000   \n",
      "75%           5.000000     ...                0.000000      18.000000   \n",
      "max        1416.000000     ...             1192.000000      23.000000   \n",
      "\n",
      "       FirstDepTime2  TotalAddGTime  LongestAddGTime  DivAirportLandings  \\\n",
      "count     444.000000     444.000000       444.000000        66085.000000   \n",
      "mean       31.894144      37.583333        37.322072            0.005296   \n",
      "std        17.276795      30.303801        30.276042            0.171521   \n",
      "min         0.000000       6.000000         6.000000            0.000000   \n",
      "25%        18.000000      17.000000        17.000000            0.000000   \n",
      "50%        34.000000      29.000000        29.000000            0.000000   \n",
      "75%        47.000000      47.000000        46.250000            0.000000   \n",
      "max        59.000000     162.000000       162.000000            9.000000   \n",
      "\n",
      "       DivReachedDest  DivActualElapsedTime  DivArrDelay  DivDistance  \n",
      "count      146.000000            107.000000   107.000000   145.000000  \n",
      "mean         0.732877            406.158879   286.532710    47.620690  \n",
      "std          0.443980            225.651181   234.772645   130.620372  \n",
      "min          0.000000            148.000000    11.000000     0.000000  \n",
      "25%          0.000000            271.000000   148.500000     0.000000  \n",
      "50%          1.000000            321.000000   194.000000     0.000000  \n",
      "75%          1.000000            441.500000   286.500000    49.000000  \n",
      "max          1.000000           1264.000000  1121.000000   852.000000  \n",
      "\n",
      "[8 rows x 35 columns]\n",
      "Year                    66085\n",
      "Quarter                 66085\n",
      "Month                   66085\n",
      "monthname               66085\n",
      "DayofMonth              66085\n",
      "DayOfWeek               66085\n",
      "dayname                 66085\n",
      "FlightDate              66085\n",
      "airline                 66085\n",
      "TailNum                 66036\n",
      "FlightNum               66085\n",
      "OriginAirportID         66085\n",
      "Origin                  66085\n",
      "OriginCityName          66085\n",
      "OriginState             66085\n",
      "OriginStateName         66085\n",
      "DestAirportID           66085\n",
      "Dest                    66085\n",
      "DestCityName            66085\n",
      "DestState               66085\n",
      "DestStateName           66085\n",
      "CRSDepTime              66085\n",
      "DepTime                 64736\n",
      "DepDelay                64716\n",
      "DepDelayMinutes         64716\n",
      "DepDelayGroup           64716\n",
      "DTimeBlk                66085\n",
      "TaxiOut                 64684\n",
      "TaxiIn                  64623\n",
      "CRSArrTime              66085\n",
      "ArrTime                 64573\n",
      "ArrDelay                64502\n",
      "ArrDelayMinutes         64502\n",
      "ArrDelayGroup           64502\n",
      "ATimeBlk                66085\n",
      "Cancelled               66085\n",
      "CancellationReason       1423\n",
      "Diverted                66085\n",
      "CRSElapsedTime          66085\n",
      "ActualElapsedTime       64516\n",
      "AirTime                 64516\n",
      "Flights                 66085\n",
      "Distance                66085\n",
      "DistGroup               66085\n",
      "CarrierDelay            66085\n",
      "WeatherDelay            66085\n",
      "NASDelay                66085\n",
      "SecurityDelay           66085\n",
      "LateAircraftDelay       66085\n",
      "FirstDepTime1             444\n",
      "FirstDepTime2             444\n",
      "FirstDepTime              444\n",
      "TotalAddGTime             444\n",
      "LongestAddGTime           444\n",
      "DivAirportLandings      66085\n",
      "DivReachedDest            146\n",
      "DivActualElapsedTime      107\n",
      "DivArrDelay               107\n",
      "DivDistance               145\n",
      "dtype: int64\n"
     ]
    }
   ],
   "source": [
    "#Filter data by needed airport\n",
    "df_dallas = df[df.Origin == 'DFW']\n",
    "print (df_dallas.describe())\n",
    "print (df_dallas.count())"
   ]
  },
  {
   "cell_type": "code",
   "execution_count": 13,
   "metadata": {},
   "outputs": [],
   "source": [
    "#Remove attributes that are not useful for us\n",
    "for col in ['Year','Quarter','Month','monthname','DayofMonth','DayOfWeek','TailNum','FlightNum','OriginAirportID',\n",
    "           'OriginCityName','OriginState','OriginStateName','DestAirportID','DestCityName','DestState','DestStateName','CRSDepTime',\n",
    "           'DepDelayMinutes','TaxiIn','TaxiOut','CRSArrTime','ArrTime','ArrDelay','ArrDelayMinutes','ArrDelayGroup','ATimeBlk','CancellationReason',\n",
    "            'Diverted', 'AirTime','CarrierDelay','WeatherDelay','NASDelay','SecurityDelay','LateAircraftDelay','FirstDepTime1','FirstDepTime2',\n",
    "            'FirstDepTime','TotalAddGTime','LongestAddGTime','DivAirportLandings','DivReachedDest','DivActualElapsedTime','DivArrDelay','DivDistance',\n",
    "           'CRSElapsedTime','Flights','DepTime']:\n",
    "    if col in df_dallas:\n",
    "        del df_dallas[col]"
   ]
  },
  {
   "cell_type": "code",
   "execution_count": 15,
   "metadata": {},
   "outputs": [
    {
     "name": "stdout",
     "output_type": "stream",
     "text": [
      "dayname               object\n",
      "FlightDate            object\n",
      "airline               object\n",
      "Origin                object\n",
      "Dest                  object\n",
      "DepDelay             float64\n",
      "DepDelayGroup         object\n",
      "DTimeBlk              object\n",
      "Cancelled            float64\n",
      "ActualElapsedTime    float64\n",
      "Distance             float64\n",
      "DistGroup             object\n",
      "dtype: object\n"
     ]
    }
   ],
   "source": [
    "print(df_dallas.dtypes)\n"
   ]
  },
  {
   "cell_type": "code",
   "execution_count": 16,
   "metadata": {},
   "outputs": [
    {
     "name": "stdout",
     "output_type": "stream",
     "text": [
      "<class 'pandas.core.frame.DataFrame'>\n",
      "Int64Index: 66085 entries, 1160 to 1702659\n",
      "Data columns (total 12 columns):\n",
      "dayname              66085 non-null object\n",
      "FlightDate           66085 non-null object\n",
      "airline              66085 non-null object\n",
      "Origin               66085 non-null object\n",
      "Dest                 66085 non-null object\n",
      "DepDelay             64716 non-null float64\n",
      "DepDelayGroup        64716 non-null object\n",
      "DTimeBlk             66085 non-null object\n",
      "Cancelled            66085 non-null float64\n",
      "ActualElapsedTime    64516 non-null float64\n",
      "Distance             66085 non-null float64\n",
      "DistGroup            66085 non-null object\n",
      "dtypes: float64(4), object(8)\n",
      "memory usage: 6.6+ MB\n",
      "None\n"
     ]
    }
   ],
   "source": [
    "print(df_dallas.info(verbose=True, null_counts=True))"
   ]
  },
  {
   "cell_type": "code",
   "execution_count": 17,
   "metadata": {},
   "outputs": [
    {
     "data": {
      "text/plain": [
       "dayname                 0\n",
       "FlightDate              0\n",
       "airline                 0\n",
       "Origin                  0\n",
       "Dest                    0\n",
       "DepDelay             1369\n",
       "DepDelayGroup        1369\n",
       "DTimeBlk                0\n",
       "Cancelled               0\n",
       "ActualElapsedTime    1569\n",
       "Distance                0\n",
       "DistGroup               0\n",
       "dtype: int64"
      ]
     },
     "execution_count": 17,
     "metadata": {},
     "output_type": "execute_result"
    }
   ],
   "source": [
    "#Figure out what data is missing\n",
    "df_dallas.isnull().sum()\n"
   ]
  },
  {
   "cell_type": "code",
   "execution_count": 20,
   "metadata": {},
   "outputs": [
    {
     "data": {
      "text/plain": [
       "<matplotlib.axes._subplots.AxesSubplot at 0x10cee3940>"
      ]
     },
     "execution_count": 20,
     "metadata": {},
     "output_type": "execute_result"
    },
    {
     "data": {
      "image/png": "[encoded data removed]",
      "text/plain": [
       "<Figure size 1800x720 with 2 Axes>"
      ]
     },
     "metadata": {},
     "output_type": "display_data"
    },
    {
     "data": {
      "image/png": "[encoded data removed]",
      "text/plain": [
       "<Figure size 1440x864 with 1 Axes>"
      ]
     },
     "metadata": {},
     "output_type": "display_data"
    }
   ],
   "source": [
    "# this python magics will allow plot to be embedded into the notebook\n",
    "import matplotlib\n",
    "import matplotlib.pyplot as plt\n",
    "import warnings\n",
    "warnings.simplefilter('ignore', DeprecationWarning)\n",
    "%matplotlib inline \n",
    "\n",
    "import missingno as mn \n",
    "\n",
    "mn.matrix(df_dallas.sort_values(by=['Dest']))\n",
    "mn.heatmap(df_dallas.sort_values(by=['Dest']))"
   ]
  },
  {
   "cell_type": "code",
   "execution_count": 25,
   "metadata": {},
   "outputs": [
    {
     "name": "stdout",
     "output_type": "stream",
     "text": [
      "155\n",
      "      dayname  FlightDate  airline  Origin  DepDelay  DepDelayGroup  DTimeBlk  \\\n",
      "Dest                                                                            \n",
      "ABI       456         456      456     456       442            442       456   \n",
      "ABQ       660         660      660     660       651            651       660   \n",
      "ACT       335         335      335     335       326            326       335   \n",
      "AEX       256         256      256     256       245            245       256   \n",
      "AMA       505         505      505     505       486            486       505   \n",
      "ASE       322         322      322     322       312            312       322   \n",
      "ATL      1660        1660     1660    1660      1648           1648      1660   \n",
      "AUS       957         957      957     957       943            943       957   \n",
      "BDL       167         167      167     167       156            156       167   \n",
      "BHM       419         419      419     419       412            412       419   \n",
      "BIL        90          90       90      90        90             90        90   \n",
      "BIS        95          95       95      95        91             91        95   \n",
      "BMI       163         163      163     163       154            154       163   \n",
      "BNA       679         679      679     679       670            670       679   \n",
      "BOI        90          90       90      90        89             89        90   \n",
      "BOS       709         709      709     709       669            669       709   \n",
      "BPT       181         181      181     181       172            172       181   \n",
      "BRO       251         251      251     251       240            240       251   \n",
      "BTR       514         514      514     514       502            502       514   \n",
      "BWI       364         364      364     364       358            358       364   \n",
      "BZN        97          97       97      97        96             96        97   \n",
      "CAE       173         173      173     173       170            170       173   \n",
      "CHA       180         180      180     180       177            177       180   \n",
      "CHS       203         203      203     203       191            191       203   \n",
      "CID       253         253      253     253       247            247       253   \n",
      "CLE       323         323      323     323       319            319       323   \n",
      "CLL       328         328      328     328       316            316       328   \n",
      "CLT       971         971      971     971       962            962       971   \n",
      "CMH       323         323      323     323       314            314       323   \n",
      "CMI       161         161      161     161       154            154       161   \n",
      "...       ...         ...      ...     ...       ...            ...       ...   \n",
      "SAF       270         270      270     270       267            267       270   \n",
      "SAN       768         768      768     768       759            759       768   \n",
      "SAT       934         934      934     934       920            920       934   \n",
      "SAV       196         196      196     196       190            190       196   \n",
      "SBA        90          90       90      90        89             89        90   \n",
      "SDF       407         407      407     407       395            395       407   \n",
      "SEA       809         809      809     809       805            805       809   \n",
      "SFO      1103        1103     1103    1103      1094           1094      1103   \n",
      "SGF       607         607      607     607       588            588       607   \n",
      "SHV       517         517      517     517       503            503       517   \n",
      "SJC       335         335      335     335       331            331       335   \n",
      "SJT       355         355      355     355       347            347       355   \n",
      "SJU       180         180      180     180       180            180       180   \n",
      "SLC       910         910      910     910       907            907       910   \n",
      "SMF       388         388      388     388       385            385       388   \n",
      "SNA       723         723      723     723       716            716       723   \n",
      "SPI       155         155      155     155       151            151       155   \n",
      "SPS       265         265      265     265       250            250       265   \n",
      "STL       671         671      671     671       658            658       671   \n",
      "SUX       111         111      111     111       106            106       111   \n",
      "SWO       167         167      167     167       163            163       167   \n",
      "TLH       168         168      168     168       165            165       168   \n",
      "TPA       621         621      621     621       618            618       621   \n",
      "TUL       660         660      660     660       650            650       660   \n",
      "TUS       618         618      618     618       611            611       618   \n",
      "TXK       242         242      242     242       230            230       242   \n",
      "TYR       334         334      334     334       313            313       334   \n",
      "TYS       337         337      337     337       332            332       337   \n",
      "VPS       349         349      349     349       339            339       349   \n",
      "XNA       751         751      751     751       735            735       751   \n",
      "\n",
      "      Cancelled  ActualElapsedTime  Distance  DistGroup  \n",
      "Dest                                                     \n",
      "ABI         456                442       456        456  \n",
      "ABQ         660                650       660        660  \n",
      "ACT         335                325       335        335  \n",
      "AEX         256                243       256        256  \n",
      "AMA         505                485       505        505  \n",
      "ASE         322                291       322        322  \n",
      "ATL        1660               1645      1660       1660  \n",
      "AUS         957                943       957        957  \n",
      "BDL         167                156       167        167  \n",
      "BHM         419                411       419        419  \n",
      "BIL          90                 90        90         90  \n",
      "BIS          95                 90        95         95  \n",
      "BMI         163                153       163        163  \n",
      "BNA         679                668       679        679  \n",
      "BOI          90                 89        90         90  \n",
      "BOS         709                668       709        709  \n",
      "BPT         181                169       181        181  \n",
      "BRO         251                239       251        251  \n",
      "BTR         514                500       514        514  \n",
      "BWI         364                357       364        364  \n",
      "BZN          97                 94        97         97  \n",
      "CAE         173                169       173        173  \n",
      "CHA         180                177       180        180  \n",
      "CHS         203                191       203        203  \n",
      "CID         253                246       253        253  \n",
      "CLE         323                317       323        323  \n",
      "CLL         328                312       328        328  \n",
      "CLT         971                962       971        971  \n",
      "CMH         323                313       323        323  \n",
      "CMI         161                151       161        161  \n",
      "...         ...                ...       ...        ...  \n",
      "SAF         270                266       270        270  \n",
      "SAN         768                757       768        768  \n",
      "SAT         934                919       934        934  \n",
      "SAV         196                190       196        196  \n",
      "SBA          90                 88        90         90  \n",
      "SDF         407                394       407        407  \n",
      "SEA         809                805       809        809  \n",
      "SFO        1103               1092      1103       1103  \n",
      "SGF         607                585       607        607  \n",
      "SHV         517                501       517        517  \n",
      "SJC         335                331       335        335  \n",
      "SJT         355                344       355        355  \n",
      "SJU         180                180       180        180  \n",
      "SLC         910                906       910        910  \n",
      "SMF         388                384       388        388  \n",
      "SNA         723                714       723        723  \n",
      "SPI         155                151       155        155  \n",
      "SPS         265                248       265        265  \n",
      "STL         671                657       671        671  \n",
      "SUX         111                106       111        111  \n",
      "SWO         167                163       167        167  \n",
      "TLH         168                165       168        168  \n",
      "TPA         621                618       621        621  \n",
      "TUL         660                649       660        660  \n",
      "TUS         618                611       618        618  \n",
      "TXK         242                226       242        242  \n",
      "TYR         334                311       334        334  \n",
      "TYS         337                332       337        337  \n",
      "VPS         349                338       349        349  \n",
      "XNA         751                730       751        751  \n",
      "\n",
      "[155 rows x 11 columns]\n"
     ]
    }
   ],
   "source": [
    "#Group data by destination \n",
    "df_dallas_grouped = df_dallas.groupby(by=['Dest'])\n",
    "#Show the number of unique destinations\n",
    "print (df_dallas.Dest.nunique())\n",
    "#Show the number of flights to each destination\n",
    "print (df_dallas_grouped.count())"
   ]
  },
  {
   "cell_type": "code",
   "execution_count": 28,
   "metadata": {},
   "outputs": [
    {
     "name": "stdout",
     "output_type": "stream",
     "text": [
      "<class 'pandas.core.frame.DataFrame'>\n",
      "Int64Index: 66085 entries, 1160 to 1702659\n",
      "Data columns (total 12 columns):\n",
      "DepDelay             66085 non-null float64\n",
      "Cancelled            66085 non-null float64\n",
      "ActualElapsedTime    66085 non-null float64\n",
      "Distance             66085 non-null float64\n",
      "Dest                 66085 non-null object\n",
      "dayname              66085 non-null object\n",
      "FlightDate           66085 non-null object\n",
      "Origin               66085 non-null object\n",
      "DistGroup            66085 non-null object\n",
      "DepDelayGroup        64716 non-null object\n",
      "airline              66085 non-null object\n",
      "DTimeBlk             66085 non-null object\n",
      "dtypes: float64(4), object(8)\n",
      "memory usage: 6.6+ MB\n",
      "None\n",
      "<class 'pandas.core.frame.DataFrame'>\n",
      "Int64Index: 64716 entries, 1160 to 1702659\n",
      "Data columns (total 12 columns):\n",
      "DepDelay             64716 non-null float64\n",
      "Cancelled            64716 non-null float64\n",
      "ActualElapsedTime    64716 non-null float64\n",
      "Distance             64716 non-null float64\n",
      "Dest                 64716 non-null object\n",
      "dayname              64716 non-null object\n",
      "FlightDate           64716 non-null object\n",
      "Origin               64716 non-null object\n",
      "DistGroup            64716 non-null object\n",
      "DepDelayGroup        64716 non-null object\n",
      "airline              64716 non-null object\n",
      "DTimeBlk             64716 non-null object\n",
      "dtypes: float64(4), object(8)\n",
      "memory usage: 6.4+ MB\n",
      "None\n"
     ]
    }
   ],
   "source": [
    "\"\"\"Need to figure out if we actually want to impute the data, since delay varies wildly on \n",
    "flights even flights to the same destination, same airline, same day have unpredictable delays\n",
    "\"\"\"\n",
    "# now use this grouping to fill the data set in each group, then transform back\n",
    "\n",
    "# create new dataframe that fills groups with the median of that group\n",
    "func = lambda grp: grp.fillna(grp.median())\n",
    "df_dallas_imputed = df_dallas_grouped.transform(func)\n",
    "\n",
    "# fill any deleted columns\n",
    "col_deleted = list( set(df_dallas.columns) - set(df_dallas_imputed.columns)) # in case the median operation deleted columns\n",
    "df_dallas_imputed[col_deleted] = df_dallas[col_deleted]\n",
    "\n",
    "print (df_dallas_imputed.info())\n",
    "\n",
    "# 4. drop rows that still had missing values after grouped imputation\n",
    "df_dallas_imputed.dropna(inplace=True)\n",
    "\n",
    "print (df_dallas_imputed.info())"
   ]
  },
  {
   "cell_type": "code",
   "execution_count": null,
   "metadata": {},
   "outputs": [],
   "source": []
  }
 ],
 "metadata": {
  "kernelspec": {
   "display_name": "Python 3",
   "language": "python",
   "name": "python3"
  },
  "language_info": {
   "codemirror_mode": {
    "name": "ipython",
    "version": 3
   },
   "file_extension": ".py",
   "mimetype": "text/x-python",
   "name": "python",
   "nbconvert_exporter": "python",
   "pygments_lexer": "ipython3",
   "version": "3.6.1"
  }
 },
 "nbformat": 4,
 "nbformat_minor": 2
}
