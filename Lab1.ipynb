{
 "cells": [
  {
   "cell_type": "markdown",
   "metadata": {},
   "source": [
    "## Lab1\n",
    "### Questions we can use the data to explore:\n",
    "\n",
    "1.Which airport suffers the worst delays?\n",
    "\n",
    "2.Within each airport which airline has the most on time or early flights or worst delays?\n",
    "    *could pick a few states or airports\n",
    "    \n",
    "3.When is the best time to fly/What time of day has the worst delays?"
   ]
  },
  {
   "cell_type": "markdown",
   "metadata": {},
   "source": [
    "### Columns we should keep from the dataset\n",
    "* dayname\n",
    "* flightdate\n",
    "* airline\n",
    "* origin\n",
    "* dst\n",
    "* \n",
    "* depdelaygroup\n",
    "* dtimeblk\n",
    "* distgroup\n"
   ]
  },
  {
   "cell_type": "code",
   "execution_count": null,
   "metadata": {},
   "outputs": [],
   "source": []
  }
 ],
 "metadata": {
  "kernelspec": {
   "display_name": "Python 3",
   "language": "python",
   "name": "python3"
  },
  "language_info": {
   "codemirror_mode": {
    "name": "ipython",
    "version": 3
   },
   "file_extension": ".py",
   "mimetype": "text/x-python",
   "name": "python",
   "nbconvert_exporter": "python",
   "pygments_lexer": "ipython3",
   "version": "3.6.5"
  }
 },
 "nbformat": 4,
 "nbformat_minor": 2
}
